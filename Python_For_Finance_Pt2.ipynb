{
 "cells": [
  {
   "cell_type": "markdown",
   "metadata": {},
   "source": [
    "# Alternative to Python for Finance, Part 2\n",
    "\n",
    "[Here](http://www.learndatasci.com/python-finance-part-yahoo-finance-api-pandas-matplotlib/) is the original website. The original text is copied from the source.\n",
    "\n",
    "***"
   ]
  },
  {
   "cell_type": "markdown",
   "metadata": {},
   "source": [
    "In Python for Finance, Part I, we focused on using Python and Pandas to\n",
    "\n",
    "* retrieve financial time-series from free online sources (Yahoo),\n",
    "* format the data by filling missing observations and aligning them,\n",
    "* calculate some simple indicators such as rolling moving averages and\n",
    "* visualise the final time-series.\n",
    "\n",
    "As a reminder, the dataframe containing the three “cleaned” price timeseries has the following format:"
   ]
  },
  {
   "cell_type": "code",
   "execution_count": 1,
   "metadata": {
    "collapsed": true
   },
   "outputs": [],
   "source": [
    "# Import modules\n",
    "\n",
    "from pandas_datareader import data\n",
    "import matplotlib.pyplot as plt\n",
    "import pandas as pd\n",
    "import numpy as np\n",
    "import time"
   ]
  },
  {
   "cell_type": "code",
   "execution_count": 2,
   "metadata": {
    "collapsed": false
   },
   "outputs": [],
   "source": [
    "# Reload data from Part 1\n",
    "\n",
    "tickers = ['AAPL', 'MSFT', 'SP']\n",
    "today = time.strftime(\"%Y-%m-%d\")\n",
    "start_date = '2000-01-01'\n",
    "panel_data = data.DataReader(tickers, \"google\", start_date, today)\n",
    "adj_close = panel_data.ix['Close']\n",
    "all_weekdays = pd.date_range(start=start_date, end=today, freq='B')\n",
    "adj_close = adj_close.reindex(all_weekdays)\n",
    "adj_close = adj_close.fillna(method='ffill')"
   ]
  },
  {
   "cell_type": "code",
   "execution_count": 8,
   "metadata": {
    "collapsed": false
   },
   "outputs": [
    {
     "data": {
      "text/html": [
       "<div>\n",
       "<table border=\"1\" class=\"dataframe\">\n",
       "  <thead>\n",
       "    <tr style=\"text-align: right;\">\n",
       "      <th></th>\n",
       "      <th>AAPL</th>\n",
       "      <th>MSFT</th>\n",
       "      <th>SP</th>\n",
       "    </tr>\n",
       "  </thead>\n",
       "  <tbody>\n",
       "    <tr>\n",
       "      <th>2017-05-22</th>\n",
       "      <td>153.99</td>\n",
       "      <td>68.45</td>\n",
       "      <td>29.20</td>\n",
       "    </tr>\n",
       "    <tr>\n",
       "      <th>2017-05-23</th>\n",
       "      <td>153.80</td>\n",
       "      <td>68.68</td>\n",
       "      <td>29.10</td>\n",
       "    </tr>\n",
       "    <tr>\n",
       "      <th>2017-05-24</th>\n",
       "      <td>153.34</td>\n",
       "      <td>68.77</td>\n",
       "      <td>29.40</td>\n",
       "    </tr>\n",
       "    <tr>\n",
       "      <th>2017-05-25</th>\n",
       "      <td>153.87</td>\n",
       "      <td>69.62</td>\n",
       "      <td>29.25</td>\n",
       "    </tr>\n",
       "    <tr>\n",
       "      <th>2017-05-26</th>\n",
       "      <td>153.61</td>\n",
       "      <td>69.96</td>\n",
       "      <td>29.40</td>\n",
       "    </tr>\n",
       "  </tbody>\n",
       "</table>\n",
       "</div>"
      ],
      "text/plain": [
       "              AAPL   MSFT     SP\n",
       "2017-05-22  153.99  68.45  29.20\n",
       "2017-05-23  153.80  68.68  29.10\n",
       "2017-05-24  153.34  68.77  29.40\n",
       "2017-05-25  153.87  69.62  29.25\n",
       "2017-05-26  153.61  69.96  29.40"
      ]
     },
     "execution_count": 8,
     "metadata": {},
     "output_type": "execute_result"
    }
   ],
   "source": [
    "adj_close.tail()"
   ]
  },
  {
   "cell_type": "markdown",
   "metadata": {},
   "source": [
    "We have also calculated the rolling moving averages of these three timeseries as follows. Note that when calculating the $M$ days moving average, the first $M−1$ are not valid, as $M$ prices are required for the first moving average data point."
   ]
  },
  {
   "cell_type": "code",
   "execution_count": 9,
   "metadata": {
    "collapsed": false
   },
   "outputs": [
    {
     "data": {
      "text/html": [
       "<div>\n",
       "<table border=\"1\" class=\"dataframe\">\n",
       "  <thead>\n",
       "    <tr style=\"text-align: right;\">\n",
       "      <th></th>\n",
       "      <th>AAPL</th>\n",
       "      <th>MSFT</th>\n",
       "      <th>SP</th>\n",
       "    </tr>\n",
       "  </thead>\n",
       "  <tbody>\n",
       "    <tr>\n",
       "      <th>2017-05-22</th>\n",
       "      <td>150.1805</td>\n",
       "      <td>68.5690</td>\n",
       "      <td>31.4890</td>\n",
       "    </tr>\n",
       "    <tr>\n",
       "      <th>2017-05-23</th>\n",
       "      <td>150.6440</td>\n",
       "      <td>68.6070</td>\n",
       "      <td>31.2690</td>\n",
       "    </tr>\n",
       "    <tr>\n",
       "      <th>2017-05-24</th>\n",
       "      <td>151.1270</td>\n",
       "      <td>68.6540</td>\n",
       "      <td>30.9890</td>\n",
       "    </tr>\n",
       "    <tr>\n",
       "      <th>2017-05-25</th>\n",
       "      <td>151.6310</td>\n",
       "      <td>68.7215</td>\n",
       "      <td>30.6990</td>\n",
       "    </tr>\n",
       "    <tr>\n",
       "      <th>2017-05-26</th>\n",
       "      <td>152.1290</td>\n",
       "      <td>68.7965</td>\n",
       "      <td>30.4465</td>\n",
       "    </tr>\n",
       "  </tbody>\n",
       "</table>\n",
       "</div>"
      ],
      "text/plain": [
       "                AAPL     MSFT       SP\n",
       "2017-05-22  150.1805  68.5690  31.4890\n",
       "2017-05-23  150.6440  68.6070  31.2690\n",
       "2017-05-24  151.1270  68.6540  30.9890\n",
       "2017-05-25  151.6310  68.7215  30.6990\n",
       "2017-05-26  152.1290  68.7965  30.4465"
      ]
     },
     "execution_count": 9,
     "metadata": {},
     "output_type": "execute_result"
    }
   ],
   "source": [
    "# Calculating the short-window moving average\n",
    "short_rolling = adj_close.rolling(window=20).mean()\n",
    "short_rolling.tail()"
   ]
  },
  {
   "cell_type": "code",
   "execution_count": 10,
   "metadata": {
    "collapsed": false
   },
   "outputs": [
    {
     "data": {
      "text/html": [
       "<div>\n",
       "<table border=\"1\" class=\"dataframe\">\n",
       "  <thead>\n",
       "    <tr style=\"text-align: right;\">\n",
       "      <th></th>\n",
       "      <th>AAPL</th>\n",
       "      <th>MSFT</th>\n",
       "      <th>SP</th>\n",
       "    </tr>\n",
       "  </thead>\n",
       "  <tbody>\n",
       "    <tr>\n",
       "      <th>2017-05-22</th>\n",
       "      <td>137.0479</td>\n",
       "      <td>65.2178</td>\n",
       "      <td>31.0633</td>\n",
       "    </tr>\n",
       "    <tr>\n",
       "      <th>2017-05-23</th>\n",
       "      <td>137.4244</td>\n",
       "      <td>65.2788</td>\n",
       "      <td>31.0653</td>\n",
       "    </tr>\n",
       "    <tr>\n",
       "      <th>2017-05-24</th>\n",
       "      <td>137.7976</td>\n",
       "      <td>65.3435</td>\n",
       "      <td>31.0663</td>\n",
       "    </tr>\n",
       "    <tr>\n",
       "      <th>2017-05-25</th>\n",
       "      <td>138.1702</td>\n",
       "      <td>65.4167</td>\n",
       "      <td>31.0713</td>\n",
       "    </tr>\n",
       "    <tr>\n",
       "      <th>2017-05-26</th>\n",
       "      <td>138.5272</td>\n",
       "      <td>65.4879</td>\n",
       "      <td>31.0798</td>\n",
       "    </tr>\n",
       "  </tbody>\n",
       "</table>\n",
       "</div>"
      ],
      "text/plain": [
       "                AAPL     MSFT       SP\n",
       "2017-05-22  137.0479  65.2178  31.0633\n",
       "2017-05-23  137.4244  65.2788  31.0653\n",
       "2017-05-24  137.7976  65.3435  31.0663\n",
       "2017-05-25  138.1702  65.4167  31.0713\n",
       "2017-05-26  138.5272  65.4879  31.0798"
      ]
     },
     "execution_count": 10,
     "metadata": {},
     "output_type": "execute_result"
    }
   ],
   "source": [
    "# Calculating the short-window moving average\n",
    "long_rolling = adj_close.rolling(window=100).mean()\n",
    "long_rolling.tail()"
   ]
  },
  {
   "cell_type": "markdown",
   "metadata": {},
   "source": [
    "Building on these results, our ultimate goal will be to design a simple yet realistic trading strategy. However, first we need to go through some of the basic concepts related to quantitative trading strategies, as well as the tools and techniques in the process.\n",
    "\n",
    "## General considerations about trading strategies\n",
    "\n",
    "There are several ways one can go about when a trading strategy is to be developed. One approach would be to use the price time-series directly and work with numbers that correspond to some monetary value. For example, a researcher could be working with time-series expressing the price of a given stock, like the time-series we used in the previous article. Similarly, if working with fixed income instruments, e.g. bonds, one could be using a time-series expressing the price of the bond as a percentage of a given reference value, in this case the par value of the bond. Working with this type of time-series can be more intuitive as people are used to thinking in terms of prices. However, price time-series have some drawbacks. Prices are usually only positive, which makes it harder to use models and approaches which require or produce negative numbers. In addition, price time-series are usually non-stationary, that is their statistical properties are less stable over time.\n",
    "\n",
    "An alternative approach is to use time-series which correspond not to actual values but changes in the monetary value of the asset. These time-series can and do assume negative values and also, their statistical properties are usually more stable than the ones of price time-series. The most frequently used forms used are relative returns defined as\n",
    "$$r_{relative}(t) = \\frac{p(t) - p(t - 1)}{p(t - 1)}$$\n",
    "and log-returns defined as\n",
    "$$r(t) = log \\Big( \\frac{p(t) - p(t - 1)}{p(t - 1)} \\Big) $$\n",
    "\n",
    "where $p(t)$ is the price of the asset at time $t$. For example, if $p(t)=101$ and $p(t−1)=100$ then $r_{relative}(t)= \\frac{101–100}{100} = 1\\%$. \n",
    "\n",
    "There are several reasons why log-returns are being used in the industry and some of them are related to long-standing assumptions about the behaviour of asset returns and are out of our scope. However, what we need to point out are two quite interesting properties. Log-returns are additive and this facilitates treatment of our time-series, relative returns are not. We can see the additivity of log-returns in the following equation.\n",
    "\n",
    "$$r(t_1) + r(t_2) = log \\Big( \\frac{p(t_1)}{p(t_0)} \\Big) + log \\Big( \\frac{p(t_2)}{p(t_1)} \\Big) = log \\Big( \\frac{p(t_2)}{p(t_0)} \\Big) $$\n",
    "\n",
    "which is simply the log-return from $t_0$ to $t_2$. Secondly, log-returns are approximately equal to the relative returns for values of $\\frac{p(t)}{p(t−1)}$ sufficiently close to $1$. By taking the 1st order Taylor expansion of $log \\Big( \\frac{p(t)}{p(t - 1)} \\Big)$ around $1$, we get\n",
    "\n",
    "$$\\log\\left( \\frac{p\\left(t\\right)}{p\\left(t-1\\right)} \\right) \\simeq \\log\\left(1\\right) + \n",
    "\\frac{p\\left(t\\right)}{p\\left(t-1\\right)} – 1 = r_{\\text{relative}}\\left(t\\right) $$\n",
    "\n",
    "Both of these are trivially calculated using Pandas as:"
   ]
  },
  {
   "cell_type": "code",
   "execution_count": 6,
   "metadata": {
    "collapsed": false
   },
   "outputs": [
    {
     "data": {
      "text/html": [
       "<div>\n",
       "<table border=\"1\" class=\"dataframe\">\n",
       "  <thead>\n",
       "    <tr style=\"text-align: right;\">\n",
       "      <th></th>\n",
       "      <th>AAPL</th>\n",
       "      <th>MSFT</th>\n",
       "      <th>SP</th>\n",
       "    </tr>\n",
       "  </thead>\n",
       "  <tbody>\n",
       "    <tr>\n",
       "      <th>2017-05-22</th>\n",
       "      <td>0.006076</td>\n",
       "      <td>0.011228</td>\n",
       "      <td>0.019197</td>\n",
       "    </tr>\n",
       "    <tr>\n",
       "      <th>2017-05-23</th>\n",
       "      <td>-0.001234</td>\n",
       "      <td>0.003360</td>\n",
       "      <td>-0.003425</td>\n",
       "    </tr>\n",
       "    <tr>\n",
       "      <th>2017-05-24</th>\n",
       "      <td>-0.002991</td>\n",
       "      <td>0.001310</td>\n",
       "      <td>0.010309</td>\n",
       "    </tr>\n",
       "    <tr>\n",
       "      <th>2017-05-25</th>\n",
       "      <td>0.003456</td>\n",
       "      <td>0.012360</td>\n",
       "      <td>-0.005102</td>\n",
       "    </tr>\n",
       "    <tr>\n",
       "      <th>2017-05-26</th>\n",
       "      <td>-0.001690</td>\n",
       "      <td>0.004884</td>\n",
       "      <td>0.005128</td>\n",
       "    </tr>\n",
       "  </tbody>\n",
       "</table>\n",
       "</div>"
      ],
      "text/plain": [
       "                AAPL      MSFT        SP\n",
       "2017-05-22  0.006076  0.011228  0.019197\n",
       "2017-05-23 -0.001234  0.003360 -0.003425\n",
       "2017-05-24 -0.002991  0.001310  0.010309\n",
       "2017-05-25  0.003456  0.012360 -0.005102\n",
       "2017-05-26 -0.001690  0.004884  0.005128"
      ]
     },
     "execution_count": 6,
     "metadata": {},
     "output_type": "execute_result"
    }
   ],
   "source": [
    "# Relative returns\n",
    "returns = adj_close.pct_change(1)\n",
    "returns.tail()"
   ]
  },
  {
   "cell_type": "code",
   "execution_count": 7,
   "metadata": {
    "collapsed": false
   },
   "outputs": [
    {
     "data": {
      "text/html": [
       "<div>\n",
       "<table border=\"1\" class=\"dataframe\">\n",
       "  <thead>\n",
       "    <tr style=\"text-align: right;\">\n",
       "      <th></th>\n",
       "      <th>AAPL</th>\n",
       "      <th>MSFT</th>\n",
       "      <th>SP</th>\n",
       "    </tr>\n",
       "  </thead>\n",
       "  <tbody>\n",
       "    <tr>\n",
       "      <th>2017-05-22</th>\n",
       "      <td>0.006058</td>\n",
       "      <td>0.011165</td>\n",
       "      <td>0.019015</td>\n",
       "    </tr>\n",
       "    <tr>\n",
       "      <th>2017-05-23</th>\n",
       "      <td>-0.001235</td>\n",
       "      <td>0.003354</td>\n",
       "      <td>-0.003431</td>\n",
       "    </tr>\n",
       "    <tr>\n",
       "      <th>2017-05-24</th>\n",
       "      <td>-0.002995</td>\n",
       "      <td>0.001310</td>\n",
       "      <td>0.010257</td>\n",
       "    </tr>\n",
       "    <tr>\n",
       "      <th>2017-05-25</th>\n",
       "      <td>0.003450</td>\n",
       "      <td>0.012284</td>\n",
       "      <td>-0.005115</td>\n",
       "    </tr>\n",
       "    <tr>\n",
       "      <th>2017-05-26</th>\n",
       "      <td>-0.001691</td>\n",
       "      <td>0.004872</td>\n",
       "      <td>0.005115</td>\n",
       "    </tr>\n",
       "  </tbody>\n",
       "</table>\n",
       "</div>"
      ],
      "text/plain": [
       "                AAPL      MSFT        SP\n",
       "2017-05-22  0.006058  0.011165  0.019015\n",
       "2017-05-23 -0.001235  0.003354 -0.003431\n",
       "2017-05-24 -0.002995  0.001310  0.010257\n",
       "2017-05-25  0.003450  0.012284 -0.005115\n",
       "2017-05-26 -0.001691  0.004872  0.005115"
      ]
     },
     "execution_count": 7,
     "metadata": {},
     "output_type": "execute_result"
    }
   ],
   "source": [
    "# Log returns - First the logarithm of the prices is taken and the the difference of consecutive (log) observations\n",
    "log_returns = np.log(adj_close).diff()\n",
    "log_returns.tail()"
   ]
  },
  {
   "cell_type": "markdown",
   "metadata": {},
   "source": [
    "Since log-returns are additive, we can create the time-series of cumulative log-returns defined as\n",
    " \n",
    "$$c\\left(t\\right) = \\sum_{k=1}^t r\\left(t\\right)$$\n",
    "\n",
    "The cumulative log-returns and the total relative returns from 2000/01/01 for the three time-series can be seen below. Note that although log-returns are easy to manipulate, investors are accustomed to using relative returns. For example, a log-return of $1$ does not mean an investor has doubled the value of his portfolio. A relative return of $1 = 100\\%$ does! Converting between the cumulative log-return $c\\left(t\\right)$ and the total relative return $c_{\\text{relative}}\\left(t\\right) = \\frac{p\\left(t\\right) – p\\left(t_o\\right)}{p\\left(t_o\\right)}$ is simple\n",
    "\n",
    "$$c_{\\text{relative}}\\left(t\\right) = e^{c\\left(t\\right)} – 1$$\n",
    "\n",
    "For those who are wondering if this is correct, yes it is. If someone had bought $\\$1000$ worth of AAPL shares in January 2000, her/his portfolio would now be worth over $\\$30,000$. If only we had a time machine…"
   ]
  },
  {
   "cell_type": "code",
   "execution_count": 12,
   "metadata": {
    "collapsed": true
   },
   "outputs": [],
   "source": [
    "# Build figure\n",
    "fig = plt.figure(figsize=[16,9])\n",
    "\n",
    "ax = fig.add_subplot(2,1,1)\n",
    "\n",
    "for c in log_returns:\n",
    "    ax.plot(log_returns.index, log_returns.cumsum(), label=str(c))\n",
    "\n",
    "ax.set_ylabel('Cumulative log returns')\n",
    "ax.legend(loc='best')\n",
    "ax.grid()\n",
    "\n",
    "ax = fig.add_subplot(2,1,2)\n",
    "\n",
    "for c in log_returns:\n",
    "    ax.plot(log_returns.index, 100*(np.exp(log_returns.cumsum()) - 1), label=str(c))\n",
    "\n",
    "ax.set_ylabel('Total relative returns (%)')\n",
    "ax.legend(loc='best')\n",
    "ax.grid()\n",
    "\n",
    "plt.show()"
   ]
  },
  {
   "cell_type": "markdown",
   "metadata": {},
   "source": [
    "![Graphs supporting the above calculations](finance2.png \"Cumulative log returns plus percentages of relative returns.\")"
   ]
  },
  {
   "cell_type": "code",
   "execution_count": null,
   "metadata": {
    "collapsed": true
   },
   "outputs": [],
   "source": []
  }
 ],
 "metadata": {
  "kernelspec": {
   "display_name": "Python 3",
   "language": "python",
   "name": "python3"
  },
  "language_info": {
   "codemirror_mode": {
    "name": "ipython",
    "version": 3
   },
   "file_extension": ".py",
   "mimetype": "text/x-python",
   "name": "python",
   "nbconvert_exporter": "python",
   "pygments_lexer": "ipython3",
   "version": "3.5.1"
  }
 },
 "nbformat": 4,
 "nbformat_minor": 0
}
