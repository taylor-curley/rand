{
 "cells": [
  {
   "cell_type": "markdown",
   "metadata": {},
   "source": [
    "# Alternative to Python for Finance, Part 2\n",
    "\n",
    "[Here](http://www.learndatasci.com/python-finance-part-yahoo-finance-api-pandas-matplotlib/) is the original website. The original text is copied from the source.\n",
    "\n",
    "***"
   ]
  },
  {
   "cell_type": "markdown",
   "metadata": {},
   "source": [
    "In Python for Finance, Part I, we focused on using Python and Pandas to\n",
    "\n",
    "* retrieve financial time-series from free online sources (Yahoo),\n",
    "* format the data by filling missing observations and aligning them,\n",
    "* calculate some simple indicators such as rolling moving averages and\n",
    "* visualise the final time-series.\n",
    "\n",
    "As a reminder, the dataframe containing the three “cleaned” price timeseries has the following format:"
   ]
  },
  {
   "cell_type": "code",
   "execution_count": 1,
   "metadata": {
    "collapsed": true
   },
   "outputs": [],
   "source": [
    "# Import modules\n",
    "\n",
    "from pandas_datareader import data\n",
    "import matplotlib.pyplot as plt\n",
    "import pandas as pd\n",
    "import numpy as np\n",
    "import time"
   ]
  },
  {
   "cell_type": "code",
   "execution_count": 2,
   "metadata": {
    "collapsed": false
   },
   "outputs": [],
   "source": [
    "# Reload data from Part 1\n",
    "\n",
    "tickers = ['AAPL', 'MSFT', 'SP']\n",
    "today = time.strftime(\"%Y-%m-%d\")\n",
    "start_date = '2000-01-01'\n",
    "panel_data = data.DataReader(tickers, \"google\", start_date, today)\n",
    "adj_close = panel_data.ix['Close']\n",
    "all_weekdays = pd.date_range(start=start_date, end=today, freq='B')\n",
    "adj_close = adj_close.reindex(all_weekdays)\n",
    "adj_close = adj_close.fillna(method='ffill')"
   ]
  },
  {
   "cell_type": "code",
   "execution_count": 8,
   "metadata": {
    "collapsed": false
   },
   "outputs": [
    {
     "data": {
      "text/html": [
       "<div>\n",
       "<table border=\"1\" class=\"dataframe\">\n",
       "  <thead>\n",
       "    <tr style=\"text-align: right;\">\n",
       "      <th></th>\n",
       "      <th>AAPL</th>\n",
       "      <th>MSFT</th>\n",
       "      <th>SP</th>\n",
       "    </tr>\n",
       "  </thead>\n",
       "  <tbody>\n",
       "    <tr>\n",
       "      <th>2017-05-22</th>\n",
       "      <td>153.99</td>\n",
       "      <td>68.45</td>\n",
       "      <td>29.20</td>\n",
       "    </tr>\n",
       "    <tr>\n",
       "      <th>2017-05-23</th>\n",
       "      <td>153.80</td>\n",
       "      <td>68.68</td>\n",
       "      <td>29.10</td>\n",
       "    </tr>\n",
       "    <tr>\n",
       "      <th>2017-05-24</th>\n",
       "      <td>153.34</td>\n",
       "      <td>68.77</td>\n",
       "      <td>29.40</td>\n",
       "    </tr>\n",
       "    <tr>\n",
       "      <th>2017-05-25</th>\n",
       "      <td>153.87</td>\n",
       "      <td>69.62</td>\n",
       "      <td>29.25</td>\n",
       "    </tr>\n",
       "    <tr>\n",
       "      <th>2017-05-26</th>\n",
       "      <td>153.61</td>\n",
       "      <td>69.96</td>\n",
       "      <td>29.40</td>\n",
       "    </tr>\n",
       "  </tbody>\n",
       "</table>\n",
       "</div>"
      ],
      "text/plain": [
       "              AAPL   MSFT     SP\n",
       "2017-05-22  153.99  68.45  29.20\n",
       "2017-05-23  153.80  68.68  29.10\n",
       "2017-05-24  153.34  68.77  29.40\n",
       "2017-05-25  153.87  69.62  29.25\n",
       "2017-05-26  153.61  69.96  29.40"
      ]
     },
     "execution_count": 8,
     "metadata": {},
     "output_type": "execute_result"
    }
   ],
   "source": [
    "adj_close.tail()"
   ]
  },
  {
   "cell_type": "markdown",
   "metadata": {},
   "source": [
    "We have also calculated the rolling moving averages of these three timeseries as follows. Note that when calculating the $M$ days moving average, the first $M−1$ are not valid, as $M$ prices are required for the first moving average data point."
   ]
  },
  {
   "cell_type": "code",
   "execution_count": 9,
   "metadata": {
    "collapsed": false
   },
   "outputs": [
    {
     "data": {
      "text/html": [
       "<div>\n",
       "<table border=\"1\" class=\"dataframe\">\n",
       "  <thead>\n",
       "    <tr style=\"text-align: right;\">\n",
       "      <th></th>\n",
       "      <th>AAPL</th>\n",
       "      <th>MSFT</th>\n",
       "      <th>SP</th>\n",
       "    </tr>\n",
       "  </thead>\n",
       "  <tbody>\n",
       "    <tr>\n",
       "      <th>2017-05-22</th>\n",
       "      <td>150.1805</td>\n",
       "      <td>68.5690</td>\n",
       "      <td>31.4890</td>\n",
       "    </tr>\n",
       "    <tr>\n",
       "      <th>2017-05-23</th>\n",
       "      <td>150.6440</td>\n",
       "      <td>68.6070</td>\n",
       "      <td>31.2690</td>\n",
       "    </tr>\n",
       "    <tr>\n",
       "      <th>2017-05-24</th>\n",
       "      <td>151.1270</td>\n",
       "      <td>68.6540</td>\n",
       "      <td>30.9890</td>\n",
       "    </tr>\n",
       "    <tr>\n",
       "      <th>2017-05-25</th>\n",
       "      <td>151.6310</td>\n",
       "      <td>68.7215</td>\n",
       "      <td>30.6990</td>\n",
       "    </tr>\n",
       "    <tr>\n",
       "      <th>2017-05-26</th>\n",
       "      <td>152.1290</td>\n",
       "      <td>68.7965</td>\n",
       "      <td>30.4465</td>\n",
       "    </tr>\n",
       "  </tbody>\n",
       "</table>\n",
       "</div>"
      ],
      "text/plain": [
       "                AAPL     MSFT       SP\n",
       "2017-05-22  150.1805  68.5690  31.4890\n",
       "2017-05-23  150.6440  68.6070  31.2690\n",
       "2017-05-24  151.1270  68.6540  30.9890\n",
       "2017-05-25  151.6310  68.7215  30.6990\n",
       "2017-05-26  152.1290  68.7965  30.4465"
      ]
     },
     "execution_count": 9,
     "metadata": {},
     "output_type": "execute_result"
    }
   ],
   "source": [
    "# Calculating the short-window moving average\n",
    "short_rolling = adj_close.rolling(window=20).mean()\n",
    "short_rolling.tail()"
   ]
  },
  {
   "cell_type": "code",
   "execution_count": 10,
   "metadata": {
    "collapsed": false
   },
   "outputs": [
    {
     "data": {
      "text/html": [
       "<div>\n",
       "<table border=\"1\" class=\"dataframe\">\n",
       "  <thead>\n",
       "    <tr style=\"text-align: right;\">\n",
       "      <th></th>\n",
       "      <th>AAPL</th>\n",
       "      <th>MSFT</th>\n",
       "      <th>SP</th>\n",
       "    </tr>\n",
       "  </thead>\n",
       "  <tbody>\n",
       "    <tr>\n",
       "      <th>2017-05-22</th>\n",
       "      <td>137.0479</td>\n",
       "      <td>65.2178</td>\n",
       "      <td>31.0633</td>\n",
       "    </tr>\n",
       "    <tr>\n",
       "      <th>2017-05-23</th>\n",
       "      <td>137.4244</td>\n",
       "      <td>65.2788</td>\n",
       "      <td>31.0653</td>\n",
       "    </tr>\n",
       "    <tr>\n",
       "      <th>2017-05-24</th>\n",
       "      <td>137.7976</td>\n",
       "      <td>65.3435</td>\n",
       "      <td>31.0663</td>\n",
       "    </tr>\n",
       "    <tr>\n",
       "      <th>2017-05-25</th>\n",
       "      <td>138.1702</td>\n",
       "      <td>65.4167</td>\n",
       "      <td>31.0713</td>\n",
       "    </tr>\n",
       "    <tr>\n",
       "      <th>2017-05-26</th>\n",
       "      <td>138.5272</td>\n",
       "      <td>65.4879</td>\n",
       "      <td>31.0798</td>\n",
       "    </tr>\n",
       "  </tbody>\n",
       "</table>\n",
       "</div>"
      ],
      "text/plain": [
       "                AAPL     MSFT       SP\n",
       "2017-05-22  137.0479  65.2178  31.0633\n",
       "2017-05-23  137.4244  65.2788  31.0653\n",
       "2017-05-24  137.7976  65.3435  31.0663\n",
       "2017-05-25  138.1702  65.4167  31.0713\n",
       "2017-05-26  138.5272  65.4879  31.0798"
      ]
     },
     "execution_count": 10,
     "metadata": {},
     "output_type": "execute_result"
    }
   ],
   "source": [
    "# Calculating the short-window moving average\n",
    "long_rolling = adj_close.rolling(window=100).mean()\n",
    "long_rolling.tail()"
   ]
  },
  {
   "cell_type": "markdown",
   "metadata": {},
   "source": [
    "Building on these results, our ultimate goal will be to design a simple yet realistic trading strategy. However, first we need to go through some of the basic concepts related to quantitative trading strategies, as well as the tools and techniques in the process.\n",
    "\n",
    "## General considerations about trading strategies\n",
    "\n",
    "There are several ways one can go about when a trading strategy is to be developed. One approach would be to use the price time-series directly and work with numbers that correspond to some monetary value. For example, a researcher could be working with time-series expressing the price of a given stock, like the time-series we used in the previous article. Similarly, if working with fixed income instruments, e.g. bonds, one could be using a time-series expressing the price of the bond as a percentage of a given reference value, in this case the par value of the bond. Working with this type of time-series can be more intuitive as people are used to thinking in terms of prices. However, price time-series have some drawbacks. Prices are usually only positive, which makes it harder to use models and approaches which require or produce negative numbers. In addition, price time-series are usually non-stationary, that is their statistical properties are less stable over time.\n",
    "\n",
    "An alternative approach is to use time-series which correspond not to actual values but changes in the monetary value of the asset. These time-series can and do assume negative values and also, their statistical properties are usually more stable than the ones of price time-series. The most frequently used forms used are relative returns defined as\n",
    "$$r_{relative}(t) = \\frac{p(t) - p(t - 1)}{p(t - 1)}$$\n",
    "and log-returns defined as\n",
    "$$r(t) = log \\Big( \\frac{p(t) - p(t - 1)}{p(t - 1)} \\Big) $$\n",
    "\n",
    "where $p(t)$ is the price of the asset at time $t$. For example, if $p(t)=101$ and $p(t−1)=100$ then $r_{relative}(t)= \\frac{101–100}{100} = 1\\%$. \n",
    "\n",
    "There are several reasons why log-returns are being used in the industry and some of them are related to long-standing assumptions about the behaviour of asset returns and are out of our scope. However, what we need to point out are two quite interesting properties. Log-returns are additive and this facilitates treatment of our time-series, relative returns are not. We can see the additivity of log-returns in the following equation.\n",
    "\n",
    "$$r(t_1) + r(t_2) = log \\Big( \\frac{p(t_1)}{p(t_0)} \\Big) + log \\Big( \\frac{p(t_2)}{p(t_1)} \\Big) = log \\Big( \\frac{p(t_2)}{p(t_0)} \\Big) $$\n",
    "\n",
    "which is simply the log-return from $t_0$ to $t_2$. Secondly, log-returns are approximately equal to the relative returns for values of $\\frac{p(t)}{p(t−1)}$ sufficiently close to $1$. By taking the 1st order Taylor expansion of $log \\Big( \\frac{p(t)}{p(t - 1)} \\Big)$ around $1$, we get\n",
    "\n",
    "$$\\log\\left( \\frac{p\\left(t\\right)}{p\\left(t-1\\right)} \\right) \\simeq \\log\\left(1\\right) + \n",
    "\\frac{p\\left(t\\right)}{p\\left(t-1\\right)} – 1 = r_{\\text{relative}}\\left(t\\right) $$\n",
    "\n",
    "Both of these are trivially calculated using Pandas as:"
   ]
  },
  {
   "cell_type": "code",
   "execution_count": 6,
   "metadata": {
    "collapsed": false
   },
   "outputs": [
    {
     "data": {
      "text/html": [
       "<div>\n",
       "<table border=\"1\" class=\"dataframe\">\n",
       "  <thead>\n",
       "    <tr style=\"text-align: right;\">\n",
       "      <th></th>\n",
       "      <th>AAPL</th>\n",
       "      <th>MSFT</th>\n",
       "      <th>SP</th>\n",
       "    </tr>\n",
       "  </thead>\n",
       "  <tbody>\n",
       "    <tr>\n",
       "      <th>2017-05-22</th>\n",
       "      <td>0.006076</td>\n",
       "      <td>0.011228</td>\n",
       "      <td>0.019197</td>\n",
       "    </tr>\n",
       "    <tr>\n",
       "      <th>2017-05-23</th>\n",
       "      <td>-0.001234</td>\n",
       "      <td>0.003360</td>\n",
       "      <td>-0.003425</td>\n",
       "    </tr>\n",
       "    <tr>\n",
       "      <th>2017-05-24</th>\n",
       "      <td>-0.002991</td>\n",
       "      <td>0.001310</td>\n",
       "      <td>0.010309</td>\n",
       "    </tr>\n",
       "    <tr>\n",
       "      <th>2017-05-25</th>\n",
       "      <td>0.003456</td>\n",
       "      <td>0.012360</td>\n",
       "      <td>-0.005102</td>\n",
       "    </tr>\n",
       "    <tr>\n",
       "      <th>2017-05-26</th>\n",
       "      <td>-0.001690</td>\n",
       "      <td>0.004884</td>\n",
       "      <td>0.005128</td>\n",
       "    </tr>\n",
       "  </tbody>\n",
       "</table>\n",
       "</div>"
      ],
      "text/plain": [
       "                AAPL      MSFT        SP\n",
       "2017-05-22  0.006076  0.011228  0.019197\n",
       "2017-05-23 -0.001234  0.003360 -0.003425\n",
       "2017-05-24 -0.002991  0.001310  0.010309\n",
       "2017-05-25  0.003456  0.012360 -0.005102\n",
       "2017-05-26 -0.001690  0.004884  0.005128"
      ]
     },
     "execution_count": 6,
     "metadata": {},
     "output_type": "execute_result"
    }
   ],
   "source": [
    "# Relative returns\n",
    "returns = adj_close.pct_change(1)\n",
    "returns.tail()"
   ]
  },
  {
   "cell_type": "code",
   "execution_count": 7,
   "metadata": {
    "collapsed": false
   },
   "outputs": [
    {
     "data": {
      "text/html": [
       "<div>\n",
       "<table border=\"1\" class=\"dataframe\">\n",
       "  <thead>\n",
       "    <tr style=\"text-align: right;\">\n",
       "      <th></th>\n",
       "      <th>AAPL</th>\n",
       "      <th>MSFT</th>\n",
       "      <th>SP</th>\n",
       "    </tr>\n",
       "  </thead>\n",
       "  <tbody>\n",
       "    <tr>\n",
       "      <th>2017-05-22</th>\n",
       "      <td>0.006058</td>\n",
       "      <td>0.011165</td>\n",
       "      <td>0.019015</td>\n",
       "    </tr>\n",
       "    <tr>\n",
       "      <th>2017-05-23</th>\n",
       "      <td>-0.001235</td>\n",
       "      <td>0.003354</td>\n",
       "      <td>-0.003431</td>\n",
       "    </tr>\n",
       "    <tr>\n",
       "      <th>2017-05-24</th>\n",
       "      <td>-0.002995</td>\n",
       "      <td>0.001310</td>\n",
       "      <td>0.010257</td>\n",
       "    </tr>\n",
       "    <tr>\n",
       "      <th>2017-05-25</th>\n",
       "      <td>0.003450</td>\n",
       "      <td>0.012284</td>\n",
       "      <td>-0.005115</td>\n",
       "    </tr>\n",
       "    <tr>\n",
       "      <th>2017-05-26</th>\n",
       "      <td>-0.001691</td>\n",
       "      <td>0.004872</td>\n",
       "      <td>0.005115</td>\n",
       "    </tr>\n",
       "  </tbody>\n",
       "</table>\n",
       "</div>"
      ],
      "text/plain": [
       "                AAPL      MSFT        SP\n",
       "2017-05-22  0.006058  0.011165  0.019015\n",
       "2017-05-23 -0.001235  0.003354 -0.003431\n",
       "2017-05-24 -0.002995  0.001310  0.010257\n",
       "2017-05-25  0.003450  0.012284 -0.005115\n",
       "2017-05-26 -0.001691  0.004872  0.005115"
      ]
     },
     "execution_count": 7,
     "metadata": {},
     "output_type": "execute_result"
    }
   ],
   "source": [
    "# Log returns - First the logarithm of the prices is taken and the the difference of consecutive (log) observations\n",
    "log_returns = np.log(adj_close).diff()\n",
    "log_returns.tail()"
   ]
  },
  {
   "cell_type": "markdown",
   "metadata": {},
   "source": [
    "Since log-returns are additive, we can create the time-series of cumulative log-returns defined as\n",
    " \n",
    "$$c\\left(t\\right) = \\sum_{k=1}^t r\\left(t\\right)$$\n",
    "\n",
    "The cumulative log-returns and the total relative returns from 2000/01/01 for the three time-series can be seen below. Note that although log-returns are easy to manipulate, investors are accustomed to using relative returns. For example, a log-return of $1$ does not mean an investor has doubled the value of his portfolio. A relative return of $1 = 100\\%$ does! Converting between the cumulative log-return $c\\left(t\\right)$ and the total relative return $c_{\\text{relative}}\\left(t\\right) = \\frac{p\\left(t\\right) – p\\left(t_o\\right)}{p\\left(t_o\\right)}$ is simple\n",
    "\n",
    "$$c_{\\text{relative}}\\left(t\\right) = e^{c\\left(t\\right)} – 1$$\n",
    "\n",
    "For those who are wondering if this is correct, yes it is. If someone had bought $\\$1000$ worth of AAPL shares in January 2000, her/his portfolio would now be worth over $\\$30,000$. If only we had a time machine…"
   ]
  },
  {
   "cell_type": "code",
   "execution_count": 12,
   "metadata": {
    "collapsed": true
   },
   "outputs": [],
   "source": [
    "# Build figure\n",
    "fig = plt.figure(figsize=[16,9])\n",
    "\n",
    "ax = fig.add_subplot(2,1,1)\n",
    "\n",
    "for c in log_returns:\n",
    "    ax.plot(log_returns.index, log_returns.cumsum(), label=str(c))\n",
    "\n",
    "ax.set_ylabel('Cumulative log returns')\n",
    "ax.legend(loc='best')\n",
    "ax.grid()\n",
    "\n",
    "ax = fig.add_subplot(2,1,2)\n",
    "\n",
    "for c in log_returns:\n",
    "    ax.plot(log_returns.index, 100*(np.exp(log_returns.cumsum()) - 1), label=str(c))\n",
    "\n",
    "ax.set_ylabel('Total relative returns (%)')\n",
    "ax.legend(loc='best')\n",
    "ax.grid()\n",
    "\n",
    "plt.show()"
   ]
  },
  {
   "cell_type": "markdown",
   "metadata": {},
   "source": [
    "![Graphs supporting the above calculations](img/finance2.png \"Cumulative log returns plus percentages of relative returns.\")"
   ]
  },
  {
   "cell_type": "markdown",
   "metadata": {},
   "source": [
    "## What is a quantitative trading strategy?\n",
    "\n",
    "Our goal is to develop a toy trading strategy, but what does the term “quantitative trading strategy” actually mean? In this section we will give a definition that will guide us in our long-term goal.\n",
    "\n",
    "Assume we have at our disposal a certain amount of dollars, $N$, which we are interested to invest. We have at our disposal a set of $K$ assets from which we can buy and sell freely any arbitrary amount. Our goal is to derive weights $w_i\\left(t\\right)$, $i = 1$, $\\ldots$, $K$ such that\n",
    "\n",
    "$$ w_i\\left(t\\right) \\in \\mathbb{R} \\ \\text{and} \\ \\sum_{i=1}^K w_i\\left(t\\right) \\leq 1 $$\n",
    "\n",
    "so that an amount of dollars equal to $w_i\\left(t\\right) N$ is invested at time $t$ on asset $i$.\n",
    "\n",
    "The inequality condition signifies $\\sum_{i=1}^K w_i\\left(t\\right) \\leq 1$ that the maximum amount we can invest is equal to amount of dollars we have, that is $N$."
   ]
  },
  {
   "cell_type": "markdown",
   "metadata": {},
   "source": [
    "---\n",
    "#### Example\n",
    "\n",
    "For example, assume we can invest in $2$ instruments only and that $N=\\$1000$. The goal is to derive two weights $w_1(t)$ and $w_2(t)$.\n",
    "\n",
    "If at some point $w_1(t) = 0.4$ and $w_2(t) = 0.6$, this means that we have invested $w_1(t)N = \\$400$ in asset $1$ and $w_2(t)N = \\$600$ in asset $2$. Since we only have $\\$1000$, we can only invest up to that much which means that\n",
    "$$w1(t)N+w2(t)N≤N⇒w1(t)+w2(t)<1$$\n",
    "\n",
    "---"
   ]
  },
  {
   "cell_type": "markdown",
   "metadata": {},
   "source": [
    "Note that since we have allowed $w_i\\left(t\\right)$ to be any real number, we are implying that we are allowed to have negative weights. Negative weights imply that we have sold a given asset short. Selling short an asset means selling an asset we do not currently hold and receiving its value in cash. Selling short is different than selling an asset we already own, which is called selling long.\n",
    "\n",
    "The mechanics behind this can be complicated and are usually subject to regulatory scrutiny. However, on a high level, it involves borrowing the asset from a third party and then selling it to the buyer. Since at some point the asset needs to be returned to the party from which it was borrowed, the short position needs to be closed. This is achieved by buying the asset back from the original buyer or any other willing seller. For the purpose of this article it will be assumed that selling an asset short can be accomplished at no added cost, an assumption which is not true.\n",
    "\n",
    "The assuming that the weights can be unbounded is not realistic. For example, based on the definition given above we could sell short an amount of AAPL shares of value equal to $N$. This means that, for now, we have at our disposal an additional $N$ dollars to invest from the short sale. Thus, together with our original $N$ dollars, we can the purchase shares of MSFT worth $2N$ dollars. In our framework, this translates to $w_{\\text{AAPL}}= -1$ and $w_{\\text{MSFT}}= 2$. In theory, the weights could be $-999$ and $1000$ respectively. However, an increase in the absolute values of the weights leads to an increase in the risk of our portfolio for reasons we will see further down this series of tutorials. Therefore, when developing our trading strategy, appropriate thresholds will be imposed on the weights $w_i\\left(t\\right)$.\n",
    "\n",
    "A final note has to do with cash. Any portfolio will at some point in time include cash. In the aforementioned setup if at any point in time $W = \\sum_{i=1}^K w_i\\left(t\\right) < 1$, then it means that our portfolio includes $\\left(1-W\\right)N$ dollars in cash. Of course, if $W<0$, our net position is short, which means we are currently holding more than $N$ dollars which is the initial value of the portfolio."
   ]
  },
  {
   "cell_type": "markdown",
   "metadata": {},
   "source": [
    "## Putting it all together\n",
    "\n",
    "For the remaining of this series of tutorials we will assume (unless explicitly stated) that $N=\\$1$. This will allow us to simplify the notation and all calculations and only deal with the weights $w_i\\left(t\\right)$ of the strategy which will be pure numbers. We can always convert back to a monetary value by simply multiplying our dimensionless weights with $N$, the value of the portfolio in dollars (or any other currency of interest). We will also assume that daily returns of the different assets are small enough, so that log-returns are roughly equal to relative returns. Thus, in what follows we will be using the log-returns.\n",
    "\n",
    "Assume that somehow we have what we think is a promising strategy, which is simply a vector\n",
    "\n",
    "$$\\vec{w}\\left(t\\right) = \\left[ w_1\\left(t\\right), w_2\\left(t\\right), \\ldots, w_K\\left(t\\right) \\right]^T \\in \\mathbb{R}^{K \\times 1}$$\n",
    "\n",
    "Then, if $\\vec{r}\\left(t\\right)$ is a column vector of relative returns for the assets in the portfolio, the total log-return $r_p\\left(t\\right)$ for each $t$ is simply\n",
    "\n",
    "$$r_p\\left(t\\right) \\& = \\vec{w}^T\\left(t\\right) \\vec{r}\\left(t\\right)$$\n",
    "$$ = w_1\\left(t\\right) r_1\\left(t\\right) + \\ldots + w_K\\left(t\\right) r_K\\left(t\\right)$$\n",
    "\n",
    "\n",
    "Let us assume we are are using the last day in our dataset and $w_1 = w_2 = w_3 = \\frac{1}{3}$. Then:"
   ]
  },
  {
   "cell_type": "code",
   "execution_count": 13,
   "metadata": {
    "collapsed": false
   },
   "outputs": [
    {
     "data": {
      "text/html": [
       "<div>\n",
       "<table border=\"1\" class=\"dataframe\">\n",
       "  <thead>\n",
       "    <tr style=\"text-align: right;\">\n",
       "      <th></th>\n",
       "      <th>2017-05-26 00:00:00</th>\n",
       "    </tr>\n",
       "  </thead>\n",
       "  <tbody>\n",
       "    <tr>\n",
       "      <th>AAPL</th>\n",
       "      <td>-0.001691</td>\n",
       "    </tr>\n",
       "    <tr>\n",
       "      <th>MSFT</th>\n",
       "      <td>0.004872</td>\n",
       "    </tr>\n",
       "    <tr>\n",
       "      <th>SP</th>\n",
       "      <td>0.005115</td>\n",
       "    </tr>\n",
       "  </tbody>\n",
       "</table>\n",
       "</div>"
      ],
      "text/plain": [
       "      2017-05-26\n",
       "AAPL   -0.001691\n",
       "MSFT    0.004872\n",
       "SP      0.005115"
      ]
     },
     "execution_count": 13,
     "metadata": {},
     "output_type": "execute_result"
    }
   ],
   "source": [
    "# Last day returns. Make this a column vector\n",
    "r_t = log_returns.tail(1).transpose()\n",
    "r_t"
   ]
  },
  {
   "cell_type": "code",
   "execution_count": 14,
   "metadata": {
    "collapsed": false
   },
   "outputs": [
    {
     "data": {
      "text/html": [
       "<div>\n",
       "<table border=\"1\" class=\"dataframe\">\n",
       "  <thead>\n",
       "    <tr style=\"text-align: right;\">\n",
       "      <th></th>\n",
       "      <th>2017-05-26 00:00:00</th>\n",
       "    </tr>\n",
       "  </thead>\n",
       "  <tbody>\n",
       "    <tr>\n",
       "      <th>AAPL</th>\n",
       "      <td>0.333333</td>\n",
       "    </tr>\n",
       "    <tr>\n",
       "      <th>MSFT</th>\n",
       "      <td>0.333333</td>\n",
       "    </tr>\n",
       "    <tr>\n",
       "      <th>SP</th>\n",
       "      <td>0.333333</td>\n",
       "    </tr>\n",
       "  </tbody>\n",
       "</table>\n",
       "</div>"
      ],
      "text/plain": [
       "      2017-05-26\n",
       "AAPL    0.333333\n",
       "MSFT    0.333333\n",
       "SP      0.333333"
      ]
     },
     "execution_count": 14,
     "metadata": {},
     "output_type": "execute_result"
    }
   ],
   "source": [
    "# Weights as defined above\n",
    "weights_vector = pd.DataFrame(1 / 3, index=r_t.index, columns=r_t.columns)\n",
    "weights_vector"
   ]
  },
  {
   "cell_type": "code",
   "execution_count": 15,
   "metadata": {
    "collapsed": false
   },
   "outputs": [
    {
     "data": {
      "text/html": [
       "<div>\n",
       "<table border=\"1\" class=\"dataframe\">\n",
       "  <thead>\n",
       "    <tr style=\"text-align: right;\">\n",
       "      <th></th>\n",
       "      <th>2017-05-26 00:00:00</th>\n",
       "    </tr>\n",
       "  </thead>\n",
       "  <tbody>\n",
       "    <tr>\n",
       "      <th>2017-05-26</th>\n",
       "      <td>0.002765</td>\n",
       "    </tr>\n",
       "  </tbody>\n",
       "</table>\n",
       "</div>"
      ],
      "text/plain": [
       "            2017-05-26\n",
       "2017-05-26    0.002765"
      ]
     },
     "execution_count": 15,
     "metadata": {},
     "output_type": "execute_result"
    }
   ],
   "source": [
    "# Total log_return for the portfolio is:\n",
    "portfolio_log_return = weights_vector.transpose().dot(r_t)\n",
    "portfolio_log_return"
   ]
  },
  {
   "cell_type": "markdown",
   "metadata": {},
   "source": [
    "If computer memory is not an issue, a very fast way of computing the portfolio returns for all days, $t = 1, \\ldots, T$ is the following:\n",
    "\n",
    "Assume that $\\mathbf{R} \\in \\mathbb{R}^{T \\times K}$ is a matrix, the $t$th row of which is the row vector $\\vec{r}\\left(t\\right)^T$. Similarly, $\\mathbf{W} \\in \\mathbb{R}^{T \\times K}$ is a matrix, the $t$th row of which is the row vector $\\vec{w}\\left(t\\right)^T$. Then if $\\vec{r}_p = \\left[ r_p\\left(1\\right), \\ldots, r_p\\left(T\\right) \\right]^T \\in \\mathbf{R}^{T \\times 1}$ is a column vector of all portfolio returns, we have\n",
    "\n",
    "$$\\vec{r}_p = \\text{diag}\\left\\{ \\mathbf{W} \\mathbf{R}^T \\right\\}$$\n",
    "\n",
    "where $\\text{diag}\\left\\{A \\right\\}$ is the diagonal of a matrix $\\mathbf{A}$. The diagonal extraction is required because only in the diagonal the weights and log-returns vectors are properly time-aligned."
   ]
  },
  {
   "cell_type": "markdown",
   "metadata": {},
   "source": [
    "## An Example\n",
    "\n",
    "To illustrate the concepts of the previous section, let us consider a very simple trading strategy, where the investor splits his investments equally among all three assets we have been looking at. That is:\n",
    "\n",
    "$$w_{\\text{AAPL}} = w_{\\text{MSFT}} = w_{\\text{^GSPC}} = \\frac{1}{3}$$\n",
    "\n",
    "In this case matrix $\\mathbf{W}$ will be:"
   ]
  },
  {
   "cell_type": "code",
   "execution_count": 16,
   "metadata": {
    "collapsed": false
   },
   "outputs": [
    {
     "data": {
      "text/html": [
       "<div>\n",
       "<table border=\"1\" class=\"dataframe\">\n",
       "  <thead>\n",
       "    <tr style=\"text-align: right;\">\n",
       "      <th></th>\n",
       "      <th>AAPL</th>\n",
       "      <th>MSFT</th>\n",
       "      <th>SP</th>\n",
       "    </tr>\n",
       "  </thead>\n",
       "  <tbody>\n",
       "    <tr>\n",
       "      <th>2017-05-22</th>\n",
       "      <td>0.333333</td>\n",
       "      <td>0.333333</td>\n",
       "      <td>0.333333</td>\n",
       "    </tr>\n",
       "    <tr>\n",
       "      <th>2017-05-23</th>\n",
       "      <td>0.333333</td>\n",
       "      <td>0.333333</td>\n",
       "      <td>0.333333</td>\n",
       "    </tr>\n",
       "    <tr>\n",
       "      <th>2017-05-24</th>\n",
       "      <td>0.333333</td>\n",
       "      <td>0.333333</td>\n",
       "      <td>0.333333</td>\n",
       "    </tr>\n",
       "    <tr>\n",
       "      <th>2017-05-25</th>\n",
       "      <td>0.333333</td>\n",
       "      <td>0.333333</td>\n",
       "      <td>0.333333</td>\n",
       "    </tr>\n",
       "    <tr>\n",
       "      <th>2017-05-26</th>\n",
       "      <td>0.333333</td>\n",
       "      <td>0.333333</td>\n",
       "      <td>0.333333</td>\n",
       "    </tr>\n",
       "  </tbody>\n",
       "</table>\n",
       "</div>"
      ],
      "text/plain": [
       "                AAPL      MSFT        SP\n",
       "2017-05-22  0.333333  0.333333  0.333333\n",
       "2017-05-23  0.333333  0.333333  0.333333\n",
       "2017-05-24  0.333333  0.333333  0.333333\n",
       "2017-05-25  0.333333  0.333333  0.333333\n",
       "2017-05-26  0.333333  0.333333  0.333333"
      ]
     },
     "execution_count": 16,
     "metadata": {},
     "output_type": "execute_result"
    }
   ],
   "source": [
    "weights_matrix = pd.DataFrame(1 / 3, index=adj_close.index, columns=adj_close.columns)\n",
    "weights_matrix.tail()"
   ]
  },
  {
   "cell_type": "markdown",
   "metadata": {},
   "source": [
    "Matrix $R$ is simply our log-returns dataframe defined before."
   ]
  },
  {
   "cell_type": "code",
   "execution_count": 18,
   "metadata": {
    "collapsed": false
   },
   "outputs": [
    {
     "data": {
      "text/html": [
       "<div>\n",
       "<table border=\"1\" class=\"dataframe\">\n",
       "  <thead>\n",
       "    <tr style=\"text-align: right;\">\n",
       "      <th></th>\n",
       "      <th>AAPL</th>\n",
       "      <th>MSFT</th>\n",
       "      <th>SP</th>\n",
       "    </tr>\n",
       "  </thead>\n",
       "  <tbody>\n",
       "    <tr>\n",
       "      <th>2017-05-22</th>\n",
       "      <td>0.006058</td>\n",
       "      <td>0.011165</td>\n",
       "      <td>0.019015</td>\n",
       "    </tr>\n",
       "    <tr>\n",
       "      <th>2017-05-23</th>\n",
       "      <td>-0.001235</td>\n",
       "      <td>0.003354</td>\n",
       "      <td>-0.003431</td>\n",
       "    </tr>\n",
       "    <tr>\n",
       "      <th>2017-05-24</th>\n",
       "      <td>-0.002995</td>\n",
       "      <td>0.001310</td>\n",
       "      <td>0.010257</td>\n",
       "    </tr>\n",
       "    <tr>\n",
       "      <th>2017-05-25</th>\n",
       "      <td>0.003450</td>\n",
       "      <td>0.012284</td>\n",
       "      <td>-0.005115</td>\n",
       "    </tr>\n",
       "    <tr>\n",
       "      <th>2017-05-26</th>\n",
       "      <td>-0.001691</td>\n",
       "      <td>0.004872</td>\n",
       "      <td>0.005115</td>\n",
       "    </tr>\n",
       "  </tbody>\n",
       "</table>\n",
       "</div>"
      ],
      "text/plain": [
       "                AAPL      MSFT        SP\n",
       "2017-05-22  0.006058  0.011165  0.019015\n",
       "2017-05-23 -0.001235  0.003354 -0.003431\n",
       "2017-05-24 -0.002995  0.001310  0.010257\n",
       "2017-05-25  0.003450  0.012284 -0.005115\n",
       "2017-05-26 -0.001691  0.004872  0.005115"
      ]
     },
     "execution_count": 18,
     "metadata": {},
     "output_type": "execute_result"
    }
   ],
   "source": [
    "log_returns.tail()"
   ]
  },
  {
   "cell_type": "markdown",
   "metadata": {},
   "source": [
    "Thus, the portfolio returns are calculated as:"
   ]
  },
  {
   "cell_type": "code",
   "execution_count": 19,
   "metadata": {
    "collapsed": false
   },
   "outputs": [
    {
     "data": {
      "text/html": [
       "<div>\n",
       "<table border=\"1\" class=\"dataframe\">\n",
       "  <thead>\n",
       "    <tr style=\"text-align: right;\">\n",
       "      <th></th>\n",
       "      <th>2000-01-03 00:00:00</th>\n",
       "      <th>2000-01-04 00:00:00</th>\n",
       "      <th>2000-01-05 00:00:00</th>\n",
       "      <th>2000-01-06 00:00:00</th>\n",
       "      <th>2000-01-07 00:00:00</th>\n",
       "    </tr>\n",
       "  </thead>\n",
       "  <tbody>\n",
       "    <tr>\n",
       "      <th>2017-05-22</th>\n",
       "      <td>NaN</td>\n",
       "      <td>NaN</td>\n",
       "      <td>NaN</td>\n",
       "      <td>NaN</td>\n",
       "      <td>NaN</td>\n",
       "    </tr>\n",
       "    <tr>\n",
       "      <th>2017-05-23</th>\n",
       "      <td>NaN</td>\n",
       "      <td>NaN</td>\n",
       "      <td>NaN</td>\n",
       "      <td>NaN</td>\n",
       "      <td>NaN</td>\n",
       "    </tr>\n",
       "    <tr>\n",
       "      <th>2017-05-24</th>\n",
       "      <td>NaN</td>\n",
       "      <td>NaN</td>\n",
       "      <td>NaN</td>\n",
       "      <td>NaN</td>\n",
       "      <td>NaN</td>\n",
       "    </tr>\n",
       "    <tr>\n",
       "      <th>2017-05-25</th>\n",
       "      <td>NaN</td>\n",
       "      <td>NaN</td>\n",
       "      <td>NaN</td>\n",
       "      <td>NaN</td>\n",
       "      <td>NaN</td>\n",
       "    </tr>\n",
       "    <tr>\n",
       "      <th>2017-05-26</th>\n",
       "      <td>NaN</td>\n",
       "      <td>NaN</td>\n",
       "      <td>NaN</td>\n",
       "      <td>NaN</td>\n",
       "      <td>NaN</td>\n",
       "    </tr>\n",
       "  </tbody>\n",
       "</table>\n",
       "</div>"
      ],
      "text/plain": [
       "            2000-01-03  2000-01-04  2000-01-05  2000-01-06  2000-01-07\n",
       "2017-05-22         NaN         NaN         NaN         NaN         NaN\n",
       "2017-05-23         NaN         NaN         NaN         NaN         NaN\n",
       "2017-05-24         NaN         NaN         NaN         NaN         NaN\n",
       "2017-05-25         NaN         NaN         NaN         NaN         NaN\n",
       "2017-05-26         NaN         NaN         NaN         NaN         NaN"
      ]
     },
     "execution_count": 19,
     "metadata": {},
     "output_type": "execute_result"
    }
   ],
   "source": [
    "# Initially the two matrices are multiplied. Note that we are only interested in the diagonal, \n",
    "# which is where the dates in the row-index and the column-index match.\n",
    "temp_var = weights_matrix.dot(log_returns.transpose())\n",
    "temp_var.tail().ix[:, 0:5]"
   ]
  },
  {
   "cell_type": "code",
   "execution_count": 20,
   "metadata": {
    "collapsed": false
   },
   "outputs": [
    {
     "data": {
      "text/plain": [
       "2017-05-22    0.012079\n",
       "2017-05-23   -0.000437\n",
       "2017-05-24    0.002857\n",
       "2017-05-25    0.003540\n",
       "2017-05-26    0.002765\n",
       "Freq: B, dtype: float64"
      ]
     },
     "execution_count": 20,
     "metadata": {},
     "output_type": "execute_result"
    }
   ],
   "source": [
    "# The numpy np.diag function is used to extract the diagonal and then\n",
    "# a Series is constructed using the time information from the log_returns index\n",
    "portfolio_log_returns = pd.Series(np.diag(temp_var), index=log_returns.index)\n",
    "portfolio_log_returns.tail()"
   ]
  },
  {
   "cell_type": "markdown",
   "metadata": {},
   "source": [
    "Note that these returns are only estimates because of our use of log-returns instead of relative returns. However, for most practical purposes the difference is negligible. Let us see what our cumulative log returns and the total relative returns for this portfolio look."
   ]
  },
  {
   "cell_type": "code",
   "execution_count": 21,
   "metadata": {
    "collapsed": true
   },
   "outputs": [],
   "source": [
    "total_relative_returns = (np.exp(portfolio_log_returns.cumsum()) - 1)\n",
    "\n",
    "fig = plt.figure(figsize=[16,9])\n",
    "ax = fig.add_subplot(2, 1, 1)\n",
    "ax.plot(portfolio_log_returns.index, portfolio_log_returns.cumsum())\n",
    "ax.set_ylabel('Portfolio cumulative log returns')\n",
    "ax.grid()\n",
    "ax = fig.add_subplot(2, 1, 2)\n",
    "ax.plot(total_relative_returns.index, 100 * total_relative_returns)\n",
    "ax.set_ylabel('Portfolio total relative returns (%)')\n",
    "ax.grid()\n",
    "plt.show()"
   ]
  },
  {
   "cell_type": "markdown",
   "metadata": {},
   "source": [
    "![Figure 3](img/finance3.png \"Figure 3\")"
   ]
  },
  {
   "cell_type": "markdown",
   "metadata": {},
   "source": [
    "So this simple investing strategy would yield a total return of more than $325\\%$ in the course of almost $16$ years.\n",
    "\n",
    "How does this translate to a yearly performance? Since we have kept all weekdays in our portfolio, there are $52 \\times 5 = 260$ weekdays each year. There are $4435$ days in our simulation which corresponds roughly to $16.92$ years. We will be calculating the average geometric return, that is an average return $\\bar{r}$ which when compounded for $16.92$ years will produce the total relative return of $325.14\\%$. So we need to solve:\n",
    "\n",
    "$$\\left(1 + \\bar{r}\\right)^{16.92} = 1 + 3.2514$$"
   ]
  },
  {
   "cell_type": "code",
   "execution_count": 22,
   "metadata": {
    "collapsed": false
   },
   "outputs": [
    {
     "name": "stdout",
     "output_type": "stream",
     "text": [
      "Total portfolio return is: 683.05%\n",
      "Average yearly return is: 12.51%\n"
     ]
    }
   ],
   "source": [
    "# Calculating the time-related parameters of the simulation\n",
    "days_per_year = 52 * 5\n",
    "total_days_in_simulation = adj_close.shape[0]\n",
    "number_of_years = total_days_in_simulation / days_per_year\n",
    "\n",
    "# The last data point will give us the total portfolio return\n",
    "total_portfolio_return = total_relative_returns[-1]\n",
    "# Average portfolio return assuming compunding of returns\n",
    "average_yearly_return = (1 + total_portfolio_return)**(1 / number_of_years) - 1\n",
    "\n",
    "print('Total portfolio return is: ' +\n",
    "      '{:5.2f}'.format(100 * total_portfolio_return) + '%')\n",
    "print('Average yearly return is: ' +\n",
    "      '{:5.2f}'.format(100 * average_yearly_return) + '%')"
   ]
  },
  {
   "cell_type": "markdown",
   "metadata": {},
   "source": [
    "## What next?\n",
    "\n",
    "Our strategy is a very simple example of a buy-and-hold strategy. The investor simply splits up the available funds in the three assets and keeps the same position throughout the period under investigation. Although simple, the strategy does produce a healthy 8.85%8.85% per year.\n",
    "\n",
    "However, the simulation is not completely accurate. Let us not forget that we have used ALL weekdays in our example, but we do know that on some days the markets are not trading. This will not affect the strategy we presented as the returns on the days the markets are closed are 0, but it may potentially affect other types of strategies. Furthermore, the weights here are constant over time. Ideally, we would like weights that change over time so that we can take advantage of price swings and other market events.\n",
    "\n",
    "Also, we have said nothing at all about the risk of this strategy. Risk is the most important consideration in any investment strategy and is closely related to the expected returns. In what follows, we will start designing a more complex strategy, the weights of which will not be constant over time. At the same time we will start looking into the risk of the strategy and present appropriate metrics to measure it. Finally, we will look into the issue of optimizing the strategy parameters and how this can improve our return to risk profile."
   ]
  },
  {
   "cell_type": "code",
   "execution_count": null,
   "metadata": {
    "collapsed": true
   },
   "outputs": [],
   "source": []
  }
 ],
 "metadata": {
  "kernelspec": {
   "display_name": "Python 3",
   "language": "python",
   "name": "python3"
  },
  "language_info": {
   "codemirror_mode": {
    "name": "ipython",
    "version": 3
   },
   "file_extension": ".py",
   "mimetype": "text/x-python",
   "name": "python",
   "nbconvert_exporter": "python",
   "pygments_lexer": "ipython3",
   "version": "3.5.1"
  }
 },
 "nbformat": 4,
 "nbformat_minor": 0
}
